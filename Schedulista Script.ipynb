{
 "cells": [
  {
   "cell_type": "code",
   "execution_count": 2,
   "id": "0cbc097e",
   "metadata": {},
   "outputs": [],
   "source": [
    "import pandas as pd\n",
    "import os\n",
    "import warnings\n",
    "import datetime as dt\n",
    "from datetime import datetime\n",
    "warnings.simplefilter(\"ignore\")\n",
    "\n",
    "os.getcwd()\n",
    "\n",
    "# READS WHATEVER EXCEL FILE IS IN THE LOCAL FOLDER\n",
    "df = pd.read_excel(\"Schedulista.xlsx\")\n",
    "df2 = pd.read_excel(\"TimeTable.xlsx\")\n",
    "df4 = pd.read_excel('CompanyIDs.xlsx')\n",
    "df6 = pd.read_excel('ContactIDs.xlsx')\n",
    "\n",
    "# Join with other duration time table to get duration in hour format\n",
    "df3 = pd.merge(df, df2, on = 'Appointment Duration', how = 'left')\n",
    "\n",
    "# Create the column for the official start time\n",
    "df3['start_time'] = df3['Appointment Time'].astype(str) + \" PST\"\n",
    "\n",
    "# Change these columns to strings\n",
    "df3['Appointment Time'] = df3['Appointment Time'].astype(str)\n",
    "df3['In Hours'] = df3['In Hours'].astype(str)\n",
    "\n",
    "# Get the Hour value in the date\n",
    "\n",
    "df3['Appointment Hour'] = df3['Appointment Time'].str[-8:]\n",
    "\n",
    "\n",
    "# Convert these columns to time deltas to add together, convert to string and get end time\n",
    "df3['Appointment Hour'] = pd.to_timedelta(df3['Appointment Hour'])\n",
    "df3['td In Hours'] = pd.to_timedelta(df3['In Hours'])\n",
    "df3['end'] = df3['Appointment Hour'] + df3['td In Hours']\n",
    "df3['end'] = df3['end'].astype(str)\n",
    "df3['end'] = df3['end'].str[-8:]\n",
    "df3['end_time'] = df3['Appointment Time'].str[0:10] + \" \" + df3['end'] + \" PST\"\n",
    "\n",
    "# Create column for Morgan's Hubspot User ID\n",
    "df3['Hubspot User ID'] = 198252839\n",
    "\n",
    "# Join with Company ID and Contact ID excel file \n",
    "df3.rename(columns = {'Client Name':'company name'}, inplace = True)\n",
    "df7 = pd.merge(df3, df4, on = 'company name', how = 'left')\n",
    "#df8 = pd.merge(df7, df6, on = 'Client Email', how = 'left')\n",
    "\n",
    "# Copy cleaned columns to new df\n",
    "df9 = df7[['Hubspot User ID', 'start_time', 'end_time', 'Provider Name', 'Service Name', 'Company ID', 'company name','Client Email']].copy()\n",
    "\n",
    "\n",
    "\n",
    "df9.to_excel('CleanedSchedulista.xlsx', index = False)\n",
    "\n"
   ]
  },
  {
   "cell_type": "code",
   "execution_count": null,
   "id": "3c7155a8",
   "metadata": {},
   "outputs": [],
   "source": []
  }
 ],
 "metadata": {
  "kernelspec": {
   "display_name": "Python 3 (ipykernel)",
   "language": "python",
   "name": "python3"
  },
  "language_info": {
   "codemirror_mode": {
    "name": "ipython",
    "version": 3
   },
   "file_extension": ".py",
   "mimetype": "text/x-python",
   "name": "python",
   "nbconvert_exporter": "python",
   "pygments_lexer": "ipython3",
   "version": "3.9.12"
  }
 },
 "nbformat": 4,
 "nbformat_minor": 5
}
