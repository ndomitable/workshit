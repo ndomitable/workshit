{
 "cells": [
  {
   "cell_type": "code",
   "execution_count": 3,
   "id": "fcd0d56c",
   "metadata": {},
   "outputs": [],
   "source": [
    "import pandas as pd\n",
    "import os\n",
    "import warnings\n",
    "warnings.simplefilter(\"ignore\")\n",
    "\n",
    "os.getcwd()\n",
    "\n",
    "# READS WHATEVER EXCEL FILE IS IN THE LOCAL FOLDER\n",
    "df = pd.read_excel(\"Joey.xlsx\")\n",
    "\n",
    "\n",
    "for i in range(500):\n",
    "    df = df.append({'Reference #': \"AR \" + str(i)}, ignore_index = True)\n",
    "    df = df.append({'Reference #': \"AR \" + str(i)}, ignore_index = True)\n",
    "    \n",
    "df.to_excel('Joeyy.xlsx', index = False)"
   ]
  },
  {
   "cell_type": "code",
   "execution_count": null,
   "id": "a1479a23",
   "metadata": {},
   "outputs": [],
   "source": []
  }
 ],
 "metadata": {
  "kernelspec": {
   "display_name": "Python 3 (ipykernel)",
   "language": "python",
   "name": "python3"
  },
  "language_info": {
   "codemirror_mode": {
    "name": "ipython",
    "version": 3
   },
   "file_extension": ".py",
   "mimetype": "text/x-python",
   "name": "python",
   "nbconvert_exporter": "python",
   "pygments_lexer": "ipython3",
   "version": "3.9.12"
  }
 },
 "nbformat": 4,
 "nbformat_minor": 5
}
