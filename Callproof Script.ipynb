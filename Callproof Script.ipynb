{
 "cells": [
  {
   "cell_type": "code",
   "execution_count": 2,
   "id": "bb4e2a84",
   "metadata": {},
   "outputs": [],
   "source": [
    "import pandas as pd\n",
    "import os\n",
    "import warnings\n",
    "import datetime as dt\n",
    "warnings.simplefilter(\"ignore\")\n",
    "\n",
    "os.getcwd()\n",
    "\n",
    "# READS WHATEVER EXCEL FILE IS IN THE LOCAL FOLDER\n",
    "df = pd.read_excel(\"Callproof.xlsx\")\n",
    "df2 = pd.read_excel(\"RepIDs.xlsx\")\n",
    "df4 = pd.read_excel(\"CompanyIDs.xlsx\")\n",
    "\n",
    "# Converts Times\n",
    "df['timedelta_time']=pd.to_timedelta(df['time'].astype(str))\n",
    "df['timedelta_duration']=pd.to_timedelta(df['duration'].astype(str))\n",
    "df['timedelta_endtime'] = df['timedelta_time'] + df['timedelta_duration']\n",
    "df['timedelta_endtime'] = df['timedelta_endtime'].astype(str).map(lambda x: x[7:])\n",
    "\n",
    "\n",
    "# Join on User ID \n",
    "df3 = pd.merge(df, df2, on = 'rep', how = 'left')\n",
    "\n",
    "# Rename \"company\" to \"company name\"\n",
    "df3.rename(columns={'company':'company name'}, inplace=True)\n",
    "\n",
    "\n",
    "# Creates two columns of correct start and end times\n",
    "df3['start'] = df3['date'].astype(str) + \" \" +df3['time'].astype(str) + \" PST\"\n",
    "df3['end'] = df3['date'].astype(str) + \" \" + df['timedelta_endtime'].astype(str)  + \" PST\"\n",
    "\n",
    "# Join on Company ID\n",
    "df5 = pd.merge(df3, df4, on = 'company name', how = 'left')\n",
    "\n",
    "# Copy cleaned columns to new df\n",
    "df6 =df5[['rep', 'User ID', 'start', 'end','company name', 'Company ID','people', 'notes', 'address']].copy()\n",
    "\n",
    "\n",
    "# Save to new xl file\n",
    "df6.to_excel('CleanedCallproof.xlsx', index = False)\n"
   ]
  },
  {
   "cell_type": "code",
   "execution_count": null,
   "id": "c6385338",
   "metadata": {},
   "outputs": [],
   "source": []
  }
 ],
 "metadata": {
  "kernelspec": {
   "display_name": "Python 3 (ipykernel)",
   "language": "python",
   "name": "python3"
  },
  "language_info": {
   "codemirror_mode": {
    "name": "ipython",
    "version": 3
   },
   "file_extension": ".py",
   "mimetype": "text/x-python",
   "name": "python",
   "nbconvert_exporter": "python",
   "pygments_lexer": "ipython3",
   "version": "3.9.12"
  }
 },
 "nbformat": 4,
 "nbformat_minor": 5
}
